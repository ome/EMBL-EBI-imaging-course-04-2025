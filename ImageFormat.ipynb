{
 "cells": [
  {
   "cell_type": "markdown",
   "id": "b75b3a2e-154a-4835-9783-e5300744978f",
   "metadata": {},
   "source": [
    "[![Open in Colab](https://colab.research.google.com/assets/colab-badge.svg)](https://colab.research.google.com/github/ome/EMBL-EBI-imaging-course-04-2025/blob/main/ImageFormat.ipynb)\n",
    "## Learning Objectives\n",
    "* How to read various image formats\n",
    "\n",
    "The reading functions of most Python library will return by default a [Numpy array](https://numpy.org/doc/stable/reference/generated/numpy.array.html). "
   ]
  },
  {
   "cell_type": "markdown",
   "id": "e35aba9d",
   "metadata": {},
   "source": [
    "Note: **This cell will have to be copied to work inside the VM or on your own computer command line only. If you work in Google Colab, just take this cell as for your information only.**\n",
    "\n",
    "In order to be able to work with BioIO library, which does not work in Google Colab at the moment, you can use the provided VMs to create a venv according to the [Setup.md](Setup.md).\n",
    "\n",
    "After that, inside the newly created venv, run\n",
    "\n",
    "```\n",
    "wget https://downloads.openmicroscopy.org/images/ND2/aryeh/MeOh_high_fluo_011.nd2 # to get the image locally\n",
    "pip install bioio\n",
    "pip install bioio-nd2\n",
    "\n",
    "python #this will open a python cmd line\n",
    "\n",
    "from bioio import BioImage\n",
    "import bioio_nd2\n",
    "\n",
    "img = BioImage(\"./MeOh_high_fluo_011.nd2\", reader=bioio_nd2.Reader)\n",
    "\n",
    "img.dims.order # Return the dimension order. Note: This information is not available when using scikit-image only.\n",
    "\n",
    "img.dims.X\n",
    "img.channel_names\n",
    "img.physical_pixel_sizes.X \n",
    "img.shape\n",
    "img.data\n",
    "\n",
    "# Return 4D CZYX numpy array\n",
    "data = img.get_image_data(\"CZYX\", T=0)\n",
    "data.shape\n",
    "\n",
    "# Return 3D ZYX numpy array\n",
    "data = img.get_image_data(\"ZYX\", T=0, C=0)\n",
    "data.shape\n",
    "\n",
    "# Get the id of the current operating scene. In our case we only have one scene\n",
    "img.current_scene\n",
    "\n",
    "# Get a list valid scene ids\n",
    "img.scenes\n",
    "\n",
    "# Save the image as OME-TIFF\n",
    "img.save(\"MeOh_high_fluo_011.nd2.ome.tiff\")\n",
    "\n",
    "\n",
    "\n"
   ]
  },
  {
   "cell_type": "markdown",
   "id": "498efe06-6db5-4ddf-a932-b3afef91ea82",
   "metadata": {},
   "source": [
    "### imageio"
   ]
  },
  {
   "cell_type": "markdown",
   "id": "76b6fd0b-d218-4f18-8a28-1c2f15b5268d",
   "metadata": {},
   "source": [
    "When working with images in Python a library to consider is [scikit-image](https://scikit-image.org/) library. This library is useful when working with TIFF images. But, supporting a format does not necessary mean than all images in that format will be correctly read.\n",
    "Another library to explore is [imageio](https://imageio.readthedocs.io/en/stable/). Scipy has deprecated their image I/O functionality for [imageio](https://imageio.readthedocs.io/en/stable/user_guide/scipy.html)."
   ]
  },
  {
   "cell_type": "markdown",
   "id": "dbc7cd0b-7f3b-458b-8865-6154ebcc3261",
   "metadata": {},
   "source": [
    "The `imageio` library supports reading local data or remote data"
   ]
  },
  {
   "cell_type": "code",
   "execution_count": null,
   "id": "caccb5d9-8430-4d67-8f05-928815272241",
   "metadata": {},
   "outputs": [],
   "source": [
    "# Download a file in the Colab environment so we can test the local reading\n",
    "!wget https://github.com/imageio/imageio-binaries/raw/master/images/bacterial_colony.tif"
   ]
  },
  {
   "cell_type": "code",
   "execution_count": null,
   "id": "9882b4ab-2975-4f68-aa4c-d52eb2b03075",
   "metadata": {},
   "outputs": [],
   "source": [
    "path = \"/content/bacterial_colony.tif\"\n",
    "import imageio.v3 as iio\n",
    "img = iio.imread(path)"
   ]
  },
  {
   "cell_type": "code",
   "execution_count": null,
   "id": "a62f5941-7b7e-4bb6-9d5e-e5ffe921d8f9",
   "metadata": {},
   "outputs": [],
   "source": [
    "print(img.shape)"
   ]
  },
  {
   "cell_type": "code",
   "execution_count": null,
   "id": "d3bfeeb9-0ba3-4186-940d-8ac37889cb2c",
   "metadata": {},
   "outputs": [],
   "source": [
    "import matplotlib.pyplot as plt\n",
    "plt.imshow(img[0, :, :])"
   ]
  },
  {
   "cell_type": "code",
   "execution_count": null,
   "id": "c56b7422-8302-4bd9-bf59-611583291f95",
   "metadata": {},
   "outputs": [],
   "source": [
    "path = \"https://downloads.openmicroscopy.org/images/TIFF/condensation/A1.pattern1.tif\""
   ]
  },
  {
   "cell_type": "code",
   "execution_count": null,
   "id": "3bfdad46-2856-4539-a492-b8dc0be9c7d6",
   "metadata": {},
   "outputs": [],
   "source": [
    "img = iio.imread(path)\n",
    "print(img.shape)"
   ]
  },
  {
   "cell_type": "markdown",
   "id": "acdc4d8b-1f3d-44eb-8932-6f60f67fef0b",
   "metadata": {},
   "source": [
    "To understand the image e.g. what are the dimensions, it is important to be able to read the metadata.\n",
    "This information might not always be available in the image file itself."
   ]
  },
  {
   "cell_type": "code",
   "execution_count": null,
   "id": "d3dafbdb-99d8-4bfb-b713-8de0e67c0351",
   "metadata": {},
   "outputs": [],
   "source": [
    "metadata = iio.immeta(path)\n",
    "print(metadata.get('Info'))"
   ]
  },
  {
   "cell_type": "code",
   "execution_count": null,
   "id": "934d974e-1405-46b5-9443-cf41a2693f49",
   "metadata": {},
   "outputs": [],
   "source": [
    "from ipywidgets import *\n",
    "\n",
    "def update(t=0, c=0):\n",
    "    fig = plt.figure(figsize=(10, 10))\n",
    "    plt.imshow(img[t, c, :, :])\n",
    "    plt.tight_layout()\n",
    "    fig.canvas.flush_events()\n",
    "\n",
    "interact(update, t=widgets.IntSlider(value=0, min=0, max=img.shape[0]-1, step=1, description=\"Select T\", continuous_update=False),\n",
    "        c=widgets.IntSlider(value=0, min=0, max=img.shape[1]-1, step=1, description=\"Select C\", continuous_update=False))"
   ]
  },
  {
   "cell_type": "markdown",
   "id": "e8a8e939-8d45-4078-b2fc-0e8de3ab41f1",
   "metadata": {},
   "source": [
    "### tifffile\n",
    "[tifffile](https://github.com/cgohlke/tifffile) is the library for working with TIFF data. "
   ]
  },
  {
   "cell_type": "code",
   "execution_count": null,
   "id": "9f732a40-5787-469d-b066-deb166756a23",
   "metadata": {},
   "outputs": [],
   "source": [
    "!pip install -U tifffile[all]"
   ]
  },
  {
   "cell_type": "code",
   "execution_count": null,
   "id": "e07afc86-f3be-4fdb-b4c9-71545ce03a21",
   "metadata": {},
   "outputs": [],
   "source": [
    "import tifffile as tff\n",
    "image = tff.imread('/content/bacterial_colony.tif')"
   ]
  },
  {
   "cell_type": "code",
   "execution_count": null,
   "id": "2bc705fa-bda5-44e8-aeef-8a22a489e865",
   "metadata": {},
   "outputs": [],
   "source": [
    "plt.imshow(image[0, :, :])"
   ]
  },
  {
   "cell_type": "markdown",
   "id": "350153f0-bfe5-4939-813d-33b4b762ac99",
   "metadata": {},
   "source": [
    "### BioIO and n2"
   ]
  },
  {
   "cell_type": "markdown",
   "id": "67e08061-7adb-41c7-8191-83980b2fecbe",
   "metadata": {},
   "source": [
    "In order to analyse your image data, you need to be able to read the numerous proprietary file formats (PFFs). Bio-Formats is the most comprehensive tool in Java to read PFFs, but no such library exists in Python yet. \n",
    "\n",
    "Nonetheless the [BioIO](https://github.com/bioio-devs/bioio) is a more domain-specific Python library for accessing data. It wraps several libraries for microscopy vendor's formats (including ``nd2``, ``czi``) and has a Python wrapper around the reference Java library for reading many proprietary file formats [Bio-Formats](https://www.openmicroscopy.org/bio-formats/). This is obviously not a pure Python solution since it requires Java installed in order to run. The library also offers the ability to convert to OME-TIFF. Unfortunately the most recent version BioIO library does not currently run on Google Colab.\n",
    "\n",
    "Let's look at the [nd2 reader](https://github.com/tlambert03/nd2). It offers similar features to the ones currently supported by [BioIO](https://github.com/bioio-devs/bioio).\n",
    "[nd2 reader](https://github.com/tlambert03/nd2) uses [ome-types]((https://ome-types.readthedocs.io/en/latest/)) which is the most advanced library in Python for working with the OME-XML that is stored in the OME-TIFF."
   ]
  },
  {
   "cell_type": "code",
   "execution_count": null,
   "id": "51255136-6b3b-4933-9dc1-75cb4670313d",
   "metadata": {},
   "outputs": [],
   "source": [
    "!wget https://downloads.openmicroscopy.org/images/ND2/karl/sample_image.nd2"
   ]
  },
  {
   "cell_type": "code",
   "execution_count": null,
   "id": "dcd48b7d-4c8f-4084-b31f-cb86ef741fbc",
   "metadata": {},
   "outputs": [],
   "source": [
    "%pip install nd2"
   ]
  },
  {
   "cell_type": "code",
   "execution_count": null,
   "id": "3c32e5c0-2a3d-4379-9711-699f33491e9d",
   "metadata": {},
   "outputs": [],
   "source": [
    "import nd2"
   ]
  },
  {
   "cell_type": "code",
   "execution_count": null,
   "id": "2795247c-e8f1-4211-809a-7e5b547339bf",
   "metadata": {},
   "outputs": [],
   "source": [
    "with nd2.ND2File('/content/sample_image.nd2') as ndfile:\n",
    "    dims = ndfile.sizes\n",
    "    print(dims)\n",
    "    metadata = ndfile.metadata\n",
    "    numpy_array = ndfile.asarray()  # in-memory numpy array\n",
    "    array = ndfile.to_dask()"
   ]
  },
  {
   "cell_type": "markdown",
   "id": "dcafd5e9-d434-4630-ae62-3cc8433d3c19",
   "metadata": {},
   "source": [
    "Exercise:\n",
    "Modify the ``update`` method above to display the ``nd2`` image."
   ]
  },
  {
   "cell_type": "raw",
   "id": "966b992c-c9dc-4442-a699-02fa29585edd",
   "metadata": {},
   "source": [
    "print(type(array))"
   ]
  },
  {
   "cell_type": "code",
   "execution_count": null,
   "id": "734cebd5-ea3e-433f-a007-215a2a2bef3d",
   "metadata": {},
   "outputs": [],
   "source": [
    "%%time\n",
    "numpy_array[0, 0, :, :]"
   ]
  },
  {
   "cell_type": "code",
   "execution_count": null,
   "id": "f9423789-a3c6-42f5-9580-53468823546b",
   "metadata": {},
   "outputs": [],
   "source": [
    "%%time\n",
    "array[0, 0, :, :]"
   ]
  }
 ],
 "metadata": {
  "kernelspec": {
   "display_name": "Python 3 (ipykernel)",
   "language": "python",
   "name": "python3"
  },
  "language_info": {
   "codemirror_mode": {
    "name": "ipython",
    "version": 3
   },
   "file_extension": ".py",
   "mimetype": "text/x-python",
   "name": "python",
   "nbconvert_exporter": "python",
   "pygments_lexer": "ipython3",
   "version": "3.10.16"
  }
 },
 "nbformat": 4,
 "nbformat_minor": 5
}
