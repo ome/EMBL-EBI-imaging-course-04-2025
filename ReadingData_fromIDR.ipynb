{
 "cells": [
  {
   "cell_type": "markdown",
   "id": "12d80813-3816-4352-b78f-28b45feb5383",
   "metadata": {},
   "source": [
    "[![Open in Colab](https://colab.research.google.com/assets/colab-badge.svg)](https://colab.research.google.com/github/ome/EMBL-EBI-imaging-course-04-2025/blob/main/ReadingData_fromIDR.ipynb)\n",
    "# Reading binary data from IDR\n",
    "\n",
    "## Learning Objectives\n",
    "\n",
    "* How to load the binary data using a URL\n",
    "* How to load the binary data using the API\n",
    "\n",
    "## Reading studies from IDR\n",
    "\n",
    "To re-analyse studies available in IDR, it is preferable to download the images from IDR to read the binary data.\n",
    "Please follow the instruction available [here](https://idr.openmicroscopy.org/about/download.html).\n",
    "Depending on the image format, you will need a suitable library to read the data. The Java library [Bio-Formats](https://www.openmicroscopy.org/bio-formats/)\n",
    "is the reference for reading data. Several Python libraries also exist to read the data, for example [BioIO](https://github.com/bioio-devs/bioio) library has a plugin offering a wrapper around the Bio-Formats."
   ]
  },
  {
   "cell_type": "markdown",
   "id": "8543e126-f069-4223-a6a3-04e5b2b59ff3",
   "metadata": {},
   "source": [
    "## Reading an image binary from IDR\n",
    "\n",
    "It is sometimes useful to only download one image from a study. The [imageio.v3](https://imageio.readthedocs.io/en/stable/reference/core_v3.html) can directly read the data from a given url but it **does not support** all imaging formats.\n",
    "\n",
    "If the image format is not supported, you can use, for example, ``curl`` or ``wget`` to download the data, then either convert the data or use another library."
   ]
  },
  {
   "cell_type": "markdown",
   "id": "aed22779-38dd-41b6-ac27-1ba7cbc4acd5",
   "metadata": {},
   "source": [
    "Find the image: Let us search in [IDR homepage](https://idr.openmicroscopy.org/) for the term ``blastocysts``."
   ]
  },
  {
   "cell_type": "markdown",
   "id": "ed486f98-d32e-43be-9fc0-ac4046e92ad9",
   "metadata": {},
   "source": [
    "To find the path to the image, select the image in IDR and click on the ``chain`` icon in the top right corner.\n",
    "![path](./includes/web_path_to_image.png)"
   ]
  },
  {
   "cell_type": "code",
   "execution_count": 1,
   "id": "c0ee75d5-2844-45b5-833a-33e5073357dc",
   "metadata": {},
   "outputs": [],
   "source": [
    "BASE_RESOURCE = \"https://ftp.ebi.ac.uk/pub/databases/IDR/\"\n",
    "path = BASE_RESOURCE + \"idr0062-blin-nuclearsegmentation/20190429-ftp/Blastocysts/B4_C3.tif\" "
   ]
  },
  {
   "cell_type": "markdown",
   "id": "c2186c63-a6f1-486e-9363-de58658fc95e",
   "metadata": {},
   "source": [
    "Using the path above it is possible to download locally the image by running from a terminal\n",
    "```\n",
    "wget https://ftp.ebi.ac.uk/pub/databases/IDR/idr0062-blin-nuclearsegmentation/20190429-ftp/Blastocysts/B4_C3.tif\n",
    "```\n",
    "\n",
    "When writing a Python script, using ``wget`` is not really practical. In such case, one of the possibilities is the [ftputil](https://pypi.org/project/ftputil/) library\n",
    "\n",
    "```\n",
    "import ftputil\n",
    "import os\n",
    "\n",
    "files = [\"pub/databases/IDR/idr0062-blin-nuclearsegmentation/20190429-ftp/Blastocysts/B4_C3.tif\"]           \n",
    "with ftputil.FTPHost('ftp.ebi.ac.uk', 'anonymous') as host:\n",
    "    names = host.listdir(host.curdir)\n",
    "    for name in names:\n",
    "        if name == 'pub': # only check the IDR data\n",
    "            for file in files:\n",
    "                local_name = os.path.basename(file)\n",
    "                if host.path.isfile(file):\n",
    "                    host.download(file, local_name)\n",
    "    \n",
    "```"
   ]
  },
  {
   "cell_type": "markdown",
   "id": "f2339708",
   "metadata": {},
   "source": [
    "You can work in BioIO library in the provided VM or locally as described in [ImageFormat notebook](ImageFormat.ipynb). The workflow described in [ImageFormat notebook](ImageFormat.ipynb) is using an image downloaded from public images on downloads.openmicroscopy.org. \n",
    "You can adjust this workflow to work instead with another nd2 image, this time fetched from IDR. This is the [image in IDR](https://idr.openmicroscopy.org/webclient/?show=image-11511261), from the publication [Inherent regulatory asymmetry emanating from network architecture in a prevalent autoregulatory motif](https://doi.org/10.7554/eLife.56517) by Ali et. al. 2020. The command you need to download the image from IDR is\n",
    "\n",
    "```\n",
    "wget https://ftp.ebi.ac.uk/pub/databases/IDR/idr0095-ali-asymmetry/20200831-ftp/AO1TO2-Trial2/no.nd2\n",
    "```\n"
   ]
  },
  {
   "cell_type": "markdown",
   "id": "3c95636b-b3b4-4013-b67f-31016597d5f1",
   "metadata": {},
   "source": [
    "#### imageio\n",
    "The imageio library allows the user to specifiy directly the url."
   ]
  },
  {
   "cell_type": "code",
   "execution_count": null,
   "id": "ffeb5a86-4623-4d99-a821-dd66c34f4388",
   "metadata": {},
   "outputs": [],
   "source": [
    "import imageio.v3 as iio\n",
    "img = iio.imread(path)\n",
    "print(img.shape)"
   ]
  },
  {
   "cell_type": "markdown",
   "id": "d4be5f6b-62f1-4d4e-81ff-f5fcc71f269d",
   "metadata": {},
   "source": [
    "Read the metadata."
   ]
  },
  {
   "cell_type": "code",
   "execution_count": null,
   "id": "c58830f9-aa69-43bf-a05b-2d556aaab473",
   "metadata": {},
   "outputs": [],
   "source": [
    "metadata = iio.immeta(path)\n",
    "print(metadata.get('Info'))"
   ]
  },
  {
   "cell_type": "code",
   "execution_count": null,
   "id": "a73cd43e-a09a-4f09-8673-42b3dfe6becb",
   "metadata": {},
   "outputs": [],
   "source": [
    "z = 100\n",
    "c = 1\n",
    "data = img[z, c, :, :]"
   ]
  },
  {
   "cell_type": "code",
   "execution_count": null,
   "id": "7055a966-0cf4-460a-ba48-cb219f2b9ded",
   "metadata": {},
   "outputs": [],
   "source": [
    "import matplotlib.pyplot as plt\n",
    "plt.imshow(data)"
   ]
  },
  {
   "cell_type": "markdown",
   "id": "885f762e-3e42-41e9-9313-f0cd00769615",
   "metadata": {},
   "source": [
    "Browse the z-section"
   ]
  },
  {
   "cell_type": "code",
   "execution_count": null,
   "id": "cbdd1935-917f-4956-be23-3877a4949890",
   "metadata": {},
   "outputs": [],
   "source": [
    "from ipywidgets import *\n",
    "\n",
    "def update(z=0):\n",
    "    c = 1\n",
    "    fig = plt.figure(figsize=(10, 10))\n",
    "    plt.imshow(img[z, c, :, :])\n",
    "    plt.tight_layout()\n",
    "    fig.canvas.flush_events()\n",
    "\n",
    "interact(update, z= widgets.IntSlider(value=1, min=0, max=img.shape[0]-1, step=1, description=\"Select Z\", continuous_update=False))"
   ]
  },
  {
   "cell_type": "markdown",
   "id": "65419814-e5fd-4c8c-862c-06eb5bd45aaf",
   "metadata": {},
   "source": [
    "## Reading an image binary data from IDR using API\n",
    "As mentioned previously, downloading and then working with a file assumes that you have a suitable reader installed locally. This might not always be possible or appropriate, depending on the image format. An image can be composed of multiple files on disk and thus downloading a single file might be insufficient.\n",
    "You can nonetheless download binary data from IDR (and OMERO) using the Python API."
   ]
  },
  {
   "cell_type": "markdown",
   "id": "ae7cb83b-0bf6-415a-9ba2-cd08083f70e6",
   "metadata": {},
   "source": [
    "### Connect to IDR"
   ]
  },
  {
   "cell_type": "code",
   "execution_count": null,
   "id": "3575f5d0-a246-41d2-899e-110bf96c5582",
   "metadata": {},
   "outputs": [],
   "source": [
    "### Install the libraries to connect to idr\n",
    "\n",
    "# Ice Python binding\n",
    "%pip install https://github.com/glencoesoftware/zeroc-ice-py-linux-x86_64/releases/download/20240202/zeroc_ice-3.6.5-cp311-cp311-manylinux_2_28_x86_64.whl\n",
    "\n",
    "# Package required to interact with IDR or OMERO you usually only need to install omero-py\n",
    "%pip install omero-py"
   ]
  },
  {
   "cell_type": "code",
   "execution_count": null,
   "id": "cb0525b0-98f6-4446-9294-bcd1b7019fd8",
   "metadata": {},
   "outputs": [],
   "source": [
    "from omero.gateway import BlitzGateway\n",
    "HOST = 'ws://idr.openmicroscopy.org/omero-ws'\n",
    "conn = BlitzGateway('public', 'public',\n",
    "                    host=HOST, secure=True)\n",
    "print(conn.connect())\n",
    "conn.c.enableKeepAlive(60)"
   ]
  },
  {
   "cell_type": "code",
   "execution_count": null,
   "id": "8a880e0e-cbc4-43da-a8b6-b5b87a8cee19",
   "metadata": {},
   "outputs": [],
   "source": [
    "image_id = 6001247"
   ]
  },
  {
   "cell_type": "code",
   "execution_count": null,
   "id": "be1070d7-359f-490c-a8a8-3cbe1bf94c7c",
   "metadata": {},
   "outputs": [],
   "source": [
    "image = conn.getObject(\"Image\", image_id)"
   ]
  },
  {
   "cell_type": "markdown",
   "id": "302c7350-00f6-4995-a68c-2f40e3538b7d",
   "metadata": {},
   "source": [
    "Retrieve the information about the image."
   ]
  },
  {
   "cell_type": "code",
   "execution_count": null,
   "id": "75c9d87c-3c1a-4a63-911d-569d2e9eb1f3",
   "metadata": {},
   "outputs": [],
   "source": [
    "pixels = image.getPrimaryPixels()\n",
    "size_c = image.getSizeC()\n",
    "size_x = image.getSizeX()\n",
    "size_y = image.getSizeY()\n",
    "size_t = image.getSizeT()\n",
    "size_z = image.getSizeZ()\n",
    "print(size_c)\n",
    "# List Channels\n",
    "for channel in image.getChannels():\n",
    "    print('Channel:', channel.getLabel())"
   ]
  },
  {
   "cell_type": "markdown",
   "id": "df520f00-4589-4a44-a159-1e28e6552951",
   "metadata": {},
   "source": [
    "Read the acquisition metadata."
   ]
  },
  {
   "cell_type": "code",
   "execution_count": null,
   "id": "f554cd25-c7ba-4e8c-8cf4-563370204516",
   "metadata": {},
   "outputs": [],
   "source": [
    "import numpy\n",
    "z, t = 100, 0 # set a timepoint and a Z-section\n",
    "c_list = []\n",
    "for c in range(size_c):  # all channels\n",
    "    c_list.append((z, c, t))\n",
    "\n",
    "    values = []\n",
    "    # Load all the planes as YX numpy array\n",
    "    planes = pixels.getPlanes(c_list)\n",
    "    print(\"Downloading image %s\" % image.getName())\n",
    "    all_planes = numpy.stack(list(planes))\n",
    "# Reshape to match what we have using the imageio\n",
    "shape = (size_c, size_y, size_x)\n",
    "data_reshaped = numpy.reshape(all_planes, newshape=shape)"
   ]
  },
  {
   "cell_type": "code",
   "execution_count": null,
   "id": "5614cfc0-ec49-4be5-8adf-1a4befb0a3da",
   "metadata": {},
   "outputs": [],
   "source": [
    "print(data_reshaped.shape)"
   ]
  },
  {
   "cell_type": "code",
   "execution_count": null,
   "id": "66895b0d-c34c-4270-a55d-c8d6c9f8314a",
   "metadata": {},
   "outputs": [],
   "source": [
    "data_from_idr = data_reshaped[1, :, :]"
   ]
  },
  {
   "cell_type": "code",
   "execution_count": null,
   "id": "db66ad70-0cc4-4028-843e-77c5aff92b52",
   "metadata": {},
   "outputs": [],
   "source": [
    "plt.imshow(data_from_idr)"
   ]
  },
  {
   "cell_type": "markdown",
   "id": "8230c85c-1fa2-40da-b189-218b9117c873",
   "metadata": {},
   "source": [
    "**Exercise:**\n",
    "\n",
    "* Write a ``for`` loop to load all the planes.\n",
    "* Check the dimensions of the Numpy array.\n",
    "* Reshape the array to ``size_t, size_c, size_z, size_y, size_x`` if it is not already available in that odrder."
   ]
  },
  {
   "cell_type": "markdown",
   "id": "bc68c556-dc4a-4e34-9519-87cbdcb3c0bb",
   "metadata": {},
   "source": [
    "### Load ROIs associated to an image\n",
    "Region of Interest or ROIs usually resulting from analysis are saved independantly of the original binary data.\n",
    "ROIs can also be retrieved using the API. The supported elements are described in the [OME ROI model](https://ome-model.readthedocs.io/en/stable/developers/roi.html)."
   ]
  },
  {
   "cell_type": "code",
   "execution_count": null,
   "id": "4e380005-365d-43d1-bf74-f886d3fbae3c",
   "metadata": {},
   "outputs": [],
   "source": [
    "roi_service = conn.getRoiService()\n",
    "result = roi_service.findByImage(image_id, None)\n",
    "\n",
    "shapes = []\n",
    "for roi in result.rois:\n",
    "    shapes.append(roi.copyShapes())"
   ]
  },
  {
   "cell_type": "markdown",
   "id": "90971cd4-d0d4-4bdc-ad3f-a37a77ed8f11",
   "metadata": {},
   "source": [
    "ROIs associated with the image are masks in this case. In order to visualise them, we need to convert them to numpy array.\n",
    "We must install a conversion library for that first."
   ]
  },
  {
   "cell_type": "code",
   "execution_count": null,
   "id": "4f382490-b79a-4b1d-9069-7de10b349d28",
   "metadata": {},
   "outputs": [],
   "source": [
    "%pip install omero-cli-zarr"
   ]
  },
  {
   "cell_type": "code",
   "execution_count": null,
   "id": "a47da329-6cca-43c5-b345-22d7dc582133",
   "metadata": {},
   "outputs": [],
   "source": [
    "from omero_zarr import masks\n",
    "dims = (size_t, size_c, size_z, size_y, size_x)\n",
    "saver = masks.MaskSaver(None, image, numpy.int64)\n",
    "labels, fillColors, properties = saver.masks_to_labels(shapes, mask_shape=dims)"
   ]
  },
  {
   "cell_type": "markdown",
   "id": "4e0c89ec-d290-4274-a5db-acc7a0feac77",
   "metadata": {},
   "source": [
    "Display the labels overlayed on top of the image."
   ]
  },
  {
   "cell_type": "code",
   "execution_count": null,
   "id": "1c744ec7-043a-4bb5-90f1-d2b49c8fcbd1",
   "metadata": {},
   "outputs": [],
   "source": [
    "import matplotlib.pyplot as plt\n",
    "%matplotlib inline\n",
    "c = 1\n",
    "t = 0\n",
    "z = 100\n",
    "img_labels = labels[t, c, z, :, :]\n",
    "plt.imshow(data_reshaped[c, :, :])\n",
    "plt.imshow(img_labels, cmap='jet', alpha=0.5*(img_labels>0)) "
   ]
  },
  {
   "cell_type": "markdown",
   "id": "918a8fb1-a6ca-4191-aa35-fd6b166c6848",
   "metadata": {},
   "source": [
    "### Disconnect from IDR"
   ]
  },
  {
   "cell_type": "code",
   "execution_count": null,
   "id": "52eb4bdb-06fa-4058-bcd0-3cf779687411",
   "metadata": {},
   "outputs": [],
   "source": [
    "conn.close()"
   ]
  },
  {
   "cell_type": "markdown",
   "id": "3259fdb7-5651-49fb-8ff2-16582586ebc5",
   "metadata": {},
   "source": [
    "### License (BSD 2-Clause)¶\n",
    "\n",
    "Copyright (C) 2025 University of Dundee. All Rights Reserved.\n",
    "\n",
    "Redistribution and use in source and binary forms, with or without modification, are permitted provided that the following conditions are met:\n",
    "\n",
    "Redistributions of source code must retain the above copyright notice, this list of conditions and the following disclaimer. Redistributions in binary form must reproduce the above copyright notice, this list of conditions and the following disclaimer in the documentation and/or other materials provided with the distribution. THIS SOFTWARE IS PROVIDED BY THE COPYRIGHT HOLDERS AND CONTRIBUTORS \"AS IS\" AND ANY EXPRESS OR IMPLIED WARRANTIES, INCLUDING, BUT NOT LIMITED TO, THE IMPLIED WARRANTIES OF MERCHANTABILITY AND FITNESS FOR A PARTICULAR PURPOSE ARE DISCLAIMED. IN NO EVENT SHALL THE COPYRIGHT OWNER OR CONTRIBUTORS BE LIABLE FOR ANY DIRECT, INDIRECT, INCIDENTAL, SPECIAL, EXEMPLARY, OR CONSEQUENTIAL DAMAGES (INCLUDING, BUT NOT LIMITED TO, PROCUREMENT OF SUBSTITUTE GOODS OR SERVICES; LOSS OF USE, DATA, OR PROFITS; OR BUSINESS INTERRUPTION) HOWEVER CAUSED AND ON ANY THEORY OF LIABILITY, WHETHER IN CONTRACT, STRICT LIABILITY, OR TORT (INCLUDING NEGLIGENCE OR OTHERWISE) ARISING IN ANY WAY OUT OF THE USE OF THIS SOFTWARE, EVEN IF ADVISED OF THE POSSIBILITY OF SUCH DAMAGE."
   ]
  }
 ],
 "metadata": {
  "kernelspec": {
   "display_name": "Python 3 (ipykernel)",
   "language": "python",
   "name": "python3"
  },
  "language_info": {
   "codemirror_mode": {
    "name": "ipython",
    "version": 3
   },
   "file_extension": ".py",
   "mimetype": "text/x-python",
   "name": "python",
   "nbconvert_exporter": "python",
   "pygments_lexer": "ipython3",
   "version": "3.10.16"
  }
 },
 "nbformat": 4,
 "nbformat_minor": 5
}
